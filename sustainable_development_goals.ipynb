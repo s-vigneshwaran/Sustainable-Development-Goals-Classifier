{
 "cells": [
  {
   "cell_type": "code",
   "execution_count": null,
   "id": "628f5be0-b527-43ca-9332-7051e545f60c",
   "metadata": {
    "tags": []
   },
   "outputs": [],
   "source": [
    "# !pip3 install -r requirements.txt"
   ]
  },
  {
   "cell_type": "code",
   "execution_count": 2,
   "id": "6e79d6d2-1aa0-4d5f-b55c-f35353178fc0",
   "metadata": {},
   "outputs": [],
   "source": [
    "from ngram_matcher import NgramMatcher\n",
    "\n",
    "import numpy as np\n",
    "import json"
   ]
  },
  {
   "cell_type": "markdown",
   "id": "1f6751e7-50a5-4aa1-8902-9df1fb46608f",
   "metadata": {},
   "source": [
    "## Loading the Field of Study Data\n",
    "\n",
    "\n",
    "> fos_ids\n",
    "```\n",
    "array(['75678561', '2910500712', '2778057007', ..., '2781123569',\n",
    "       '3017735110', '134605974'], dtype=object)\n",
    "```\n",
    "\n",
    "> fos_names\n",
    "```\n",
    "array(['0 10 v lighting control', '0 degree elevation', '0 finance', ...,\n",
    "       'ω logic', 'ϵ caprolactone', '−2 3 7 pretzel knot'], dtype=object)\n",
    "```\n",
    "\n",
    "With the fos_names, we intantiate a NGramMatcher with the minimum window size of 1 and maximum of 4. This is later used when there is need to figure out the relevant terms that the text corresponds to."
   ]
  },
  {
   "cell_type": "code",
   "execution_count": 3,
   "id": "926fae34-29bf-4a70-9b31-3e042127097e",
   "metadata": {},
   "outputs": [],
   "source": [
    "fos_ids = np.load('fos_ids.npy', allow_pickle=True)\n",
    "fos_names = np.load('fos_names.npy', allow_pickle=True)\n",
    "\n",
    "ngram_matcher = NgramMatcher(fos_names,\n",
    "                             lowercase=True,\n",
    "                             token_pattern=r'(?u)\\b\\w+\\b',\n",
    "                             ngram_size=(1, 4))"
   ]
  },
  {
   "cell_type": "markdown",
   "id": "37bbbb1e-f693-4fe0-b6ba-2561db1f08a6",
   "metadata": {},
   "source": [
    "## Extracting Field of study from text\n",
    "\n",
    "For a given text, the NGramMatcher matches its all possible grams with the field of studies that it was loaded with. It also maintains the frequency of each field of study. This aids in calculating the relevancy score.\n",
    "\n",
    "Matching is done by iterating manually with all the fos and the ngrams.\n",
    "\n",
    ">Example :\n",
    "```\n",
    "{'162144332': 1,\n",
    " '166052673': 1,\n",
    " '3018052625': 1,\n",
    " '44648626': 1,\n",
    " '2987947686': 1,\n",
    " '139496715': 7,\n",
    " '2991745707': 2,\n",
    " '124952713': 1,\n",
    " '37037264': 1,\n",
    " '107107730': 1,\n",
    " '199310239': 1,\n",
    " '131390527': 1,\n",
    " '192979151': 6}\n",
    " ```"
   ]
  },
  {
   "cell_type": "code",
   "execution_count": null,
   "id": "8801ee21-2332-4880-a5f7-144360aa399b",
   "metadata": {},
   "outputs": [],
   "source": [
    "def extract_fos(text):\n",
    "    idxs, frequencies = ngram_matcher.match([text])[0]\n",
    "    ngrams = sorted(zip(fos_ids[idxs], fos_names[idxs], frequencies), key=lambda ng: len(ng[1]), reverse=True)\n",
    "    descored_ngrams = list()\n",
    "        \n",
    "    for idx, (ngram_id, ngram_name, frequency) in enumerate(ngrams):\n",
    "        for _, fol_ngram_name, fol_frequency in ngrams[:idx]:\n",
    "            if ngram_name in fol_ngram_name:\n",
    "                frequency -= fol_frequency\n",
    "        \n",
    "        if frequency > 0:\n",
    "            descored_ngrams.append([ngram_id, ngram_name, frequency])\n",
    "        \n",
    "    ngrams = descored_ngrams\n",
    "    submerged_ngrams, drop_ngram_ids = list(), set()\n",
    "    \n",
    "    for idx, (ngram_id, ngram_name, frequency) in enumerate(ngrams):\n",
    "        for ngram_id2, ngram_name2, frequency2 in ngrams[idx+1:]:\n",
    "            if ngram_name2 in ngram_name:\n",
    "                frequency += frequency2\n",
    "                drop_ngram_ids.add(ngram_id2)\n",
    "        \n",
    "        submerged_ngrams.append([ngram_id, ngram_name, frequency])\n",
    "    \n",
    "    submerged_ngrams = list(filter(lambda ng: ng[0] not in drop_ngram_ids, submerged_ngrams))\n",
    "    \n",
    "    return {fos_id: frequency for fos_id, _, frequency in submerged_ngrams}"
   ]
  },
  {
   "cell_type": "markdown",
   "id": "1ca318de-8d07-4b7f-9aa8-3410b75624df",
   "metadata": {},
   "source": [
    "## Loading the SDG Mapping Data\n",
    "\n",
    "Given the fos_ids and the frequency, we have to segregate it to its relevant Sustainable development goal. To map that we use OSDG's fosmap data."
   ]
  },
  {
   "cell_type": "code",
   "execution_count": null,
   "id": "476301a6-85df-48e2-b4d2-29bc67eeba08",
   "metadata": {},
   "outputs": [],
   "source": [
    "with open('OSDG-mapping.json', 'r') as file_:\n",
    "    mapping = [(sdg, set(fos_ids)) for sdg, fos_ids in json.load(file_).items()]\n",
    "\n",
    "with open('OSDG-fosmap.json', 'r') as file_:\n",
    "    fosmap = json.load(file_)"
   ]
  },
  {
   "cell_type": "markdown",
   "id": "ee7b12cf-12b0-472b-87d1-68cb3ddbc6ab",
   "metadata": {},
   "source": [
    "## Mapping the Labels\n",
    "\n",
    "Now that we have the fos_ids and their frequencies found from the text, we can iterate through every sdg values and keep a count. The score for a SDG is the number of FOS for a SDG. And more the score, better it caters to it."
   ]
  },
  {
   "cell_type": "code",
   "execution_count": 4,
   "id": "5b53de65-41cc-4a57-a561-1fad3856d51d",
   "metadata": {},
   "outputs": [],
   "source": [
    "use_frequency = True\n",
    "n_min_relevant_fos = 1\n",
    "\n",
    "def tag_sdg(fos):\n",
    "    sdgs = []\n",
    "    fos_ids = fos.keys()\n",
    "    \n",
    "    for sdg, sdg_fos_ids in mapping:\n",
    "        relevant_fos_ids = sdg_fos_ids.intersection(fos_ids)\n",
    "        \n",
    "        if relevant_fos_ids and len(relevant_fos_ids) >= n_min_relevant_fos:\n",
    "            if use_frequency:\n",
    "                relevance = 0\n",
    "                \n",
    "                for fos_id in relevant_fos_ids:\n",
    "                    relevance += fos.get(fos_id)\n",
    "            \n",
    "            else:\n",
    "                relevance = len(relevant_fos_ids)\n",
    "                \n",
    "            sdgs.append({'sdg': sdg,\n",
    "                         'relevance': float(relevance),\n",
    "                         'fos': list(map(lambda fos_id: fosmap[fos_id], relevant_fos_ids))})\n",
    "    \n",
    "    return sorted(sdgs, key=lambda x: x['relevance'], reverse=True)"
   ]
  },
  {
   "cell_type": "markdown",
   "id": "e89e8fff-3b14-4a96-a308-8f3cd9bbcfc7",
   "metadata": {},
   "source": [
    "## Extracting text from PDF\n",
    "\n",
    "To retrieve the text from the pdf, PyPDF2 package is used. Each and every page within the given range is converted to text and concatenated."
   ]
  },
  {
   "cell_type": "code",
   "execution_count": 5,
   "id": "4cafaed4-155e-4917-9126-f5d6b019f6f1",
   "metadata": {},
   "outputs": [],
   "source": [
    "import PyPDF2\n",
    "\n",
    "pdf_file = open('tata_report.pdf','rb')\n",
    "pdf_reader = PyPDF2.PdfFileReader(pdf_file)\n",
    "\n",
    "start = 52\n",
    "end = 67\n",
    "text = ''\n",
    "\n",
    "for i in range(start-1, end):\n",
    "    page = pdf_reader.getPage(i)\n",
    "    text += page.extractText()"
   ]
  },
  {
   "cell_type": "code",
   "execution_count": 6,
   "id": "2d4efdd8-f802-4ea8-8e56-2c69b2d3f087",
   "metadata": {},
   "outputs": [],
   "source": [
    "fos = extract_fos(text)\n",
    "sdgs = tag_sdg(fos)"
   ]
  },
  {
   "cell_type": "code",
   "execution_count": 7,
   "id": "1d10f97d-76c0-44c1-a036-90354854ca9a",
   "metadata": {},
   "outputs": [
    {
     "data": {
      "text/plain": [
       "[{'sdg': 'SDG_12',\n",
       "  'relevance': 47.0,\n",
       "  'fos': ['Resource consumption',\n",
       "   'Waste generation',\n",
       "   'Circular economy',\n",
       "   'Waste management',\n",
       "   'Hazardous waste',\n",
       "   'Reuse']},\n",
       " {'sdg': 'SDG_11',\n",
       "  'relevance': 34.0,\n",
       "  'fos': ['Resource efficiency',\n",
       "   'Water conservation',\n",
       "   'Capacity building',\n",
       "   'Water withdrawal',\n",
       "   'Indigenous',\n",
       "   'Truck',\n",
       "   'Yarn',\n",
       "   'Footprint',\n",
       "   'Water supply',\n",
       "   'Communication']},\n",
       " {'sdg': 'SDG_3',\n",
       "  'relevance': 32.0,\n",
       "  'fos': ['Pandemic',\n",
       "   'Globe',\n",
       "   'Public health',\n",
       "   'Vaccination',\n",
       "   'Confined space',\n",
       "   'Virus',\n",
       "   'Hygiene',\n",
       "   'Mental health',\n",
       "   'Community health',\n",
       "   'Survival rate',\n",
       "   'Traumatic stress',\n",
       "   'Malnutrition in children',\n",
       "   'Helpline']},\n",
       " {'sdg': 'SDG_6',\n",
       "  'relevance': 22.0,\n",
       "  'fos': ['Rainwater harvesting',\n",
       "   'Water conservation',\n",
       "   'Water withdrawal',\n",
       "   'Hygiene',\n",
       "   'Effluent',\n",
       "   'Water supply']},\n",
       " {'sdg': 'SDG_7',\n",
       "  'relevance': 12.0,\n",
       "  'fos': ['Electricity',\n",
       "   'Zero carbon',\n",
       "   'Renewable energy',\n",
       "   'Energy conservation',\n",
       "   'Operational energy',\n",
       "   'Clean energy']},\n",
       " {'sdg': 'SDG_8',\n",
       "  'relevance': 12.0,\n",
       "  'fos': ['Remanufacturing',\n",
       "   'Child labour',\n",
       "   'Employability',\n",
       "   'Workforce',\n",
       "   'Maternity leave']},\n",
       " {'sdg': 'SDG_2', 'relevance': 11.0, 'fos': ['Waste generation', 'Fishing']},\n",
       " {'sdg': 'SDG_16',\n",
       "  'relevance': 11.0,\n",
       "  'fos': ['Government',\n",
       "   'Affirmative action',\n",
       "   'Public health',\n",
       "   'Human rights',\n",
       "   'Corporation']},\n",
       " {'sdg': 'SDG_15', 'relevance': 10.0, 'fos': ['Waste generation']},\n",
       " {'sdg': 'SDG_9',\n",
       "  'relevance': 9.0,\n",
       "  'fos': ['Remanufacturing',\n",
       "   'Capacity building',\n",
       "   'Planet',\n",
       "   'Enabling',\n",
       "   'Clothing']},\n",
       " {'sdg': 'SDG_4',\n",
       "  'relevance': 8.0,\n",
       "  'fos': ['Health education',\n",
       "   'E learning',\n",
       "   'Life skills',\n",
       "   'Creativity',\n",
       "   'Coaching',\n",
       "   'Disadvantaged']},\n",
       " {'sdg': 'SDG_5',\n",
       "  'relevance': 5.0,\n",
       "  'fos': ['Human rights', 'Empowerment', 'Gender diversity']},\n",
       " {'sdg': 'SDG_10', 'relevance': 2.0, 'fos': ['Origin']},\n",
       " {'sdg': 'SDG_13', 'relevance': 2.0, 'fos': ['Certification']},\n",
       " {'sdg': 'SDG_1', 'relevance': 1.0, 'fos': ['Inclusive growth']},\n",
       " {'sdg': 'SDG_14', 'relevance': 1.0, 'fos': ['Fishing']}]"
      ]
     },
     "execution_count": 7,
     "metadata": {},
     "output_type": "execute_result"
    }
   ],
   "source": [
    "sdgs"
   ]
  },
  {
   "cell_type": "code",
   "execution_count": null,
   "id": "82712cf4-7122-4825-87e2-92757a0a5fb8",
   "metadata": {},
   "outputs": [],
   "source": []
  }
 ],
 "metadata": {
  "kernelspec": {
   "display_name": "Python 3 (ipykernel)",
   "language": "python",
   "name": "python3"
  },
  "language_info": {
   "codemirror_mode": {
    "name": "ipython",
    "version": 3
   },
   "file_extension": ".py",
   "mimetype": "text/x-python",
   "name": "python",
   "nbconvert_exporter": "python",
   "pygments_lexer": "ipython3",
   "version": "3.9.5"
  }
 },
 "nbformat": 4,
 "nbformat_minor": 5
}
